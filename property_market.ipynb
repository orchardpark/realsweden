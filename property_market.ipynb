{
 "cells": [
  {
   "cell_type": "markdown",
   "source": [
    "# Swedish Property Market Analysis Notebook\n",
    "\n",
    "This notebook contains an extensive analysis of the Swedish property market that allows for better purchase and sales decisions."
   ],
   "metadata": {
    "collapsed": false,
    "pycharm": {
     "name": "#%% md\n"
    }
   }
  },
  {
   "cell_type": "code",
   "execution_count": null,
   "outputs": [],
   "source": [
    "import matplotlib.pyplot as plt\n",
    "import pandas as pd\n",
    "import sqlite3\n",
    "import ipywidgets as widgets"
   ],
   "metadata": {
    "collapsed": false,
    "pycharm": {
     "name": "#%%\n"
    }
   }
  },
  {
   "cell_type": "code",
   "execution_count": 3,
   "outputs": [
    {
     "data": {
      "text/plain": "                                            listing_url  \\\n0     https://www.hemnet.se/salda/villa-7rum-ulvkall...   \n1     https://www.hemnet.se/salda/fritidsboende-4rum...   \n2     https://www.hemnet.se/salda/lagenhet-2rum-cent...   \n3     https://www.hemnet.se/salda/lagenhet-1rum-lund...   \n4     https://www.hemnet.se/salda/villa-7rum-snostor...   \n...                                                 ...   \n2267  https://www.hemnet.se/salda/villa-5rum-frano-k...   \n2268  https://www.hemnet.se/salda/lagenhet-4rum-husi...   \n2269  https://www.hemnet.se/salda/lagenhet-2rum-kors...   \n2270  https://www.hemnet.se/salda/lagenhet-2rum-oste...   \n2271  https://www.hemnet.se/salda/villa-5rum-sviback...   \n\n                      address                             city listing_type  \\\n0               Sörmovägen 13     Ulvkälla, Härjedalens kommun        Villa   \n1     Flo klev Svensgården 12       Grästorp, Grästorps kommun   Fritidshus   \n2         Drabantgatan 52, bv  Centralt, Upplands Väsby kommun     Lägenhet   \n3           Ulfsparregatan 9E         Lunden, Göteborgs kommun     Lägenhet   \n4      Björkås Björkbacka 341       Snöstorp, Halmstads kommun        Villa   \n...                       ...                              ...          ...   \n2267                Envägen 8           Frånö, Kramfors kommun        Villa   \n2268  Västra stationsgatan 12              Husie, Malmö kommun     Lägenhet   \n2269            Tegnérgatan 3  Korsängsgärdet, Västerås kommun     Lägenhet   \n2270     Riddargatan 49A, 4tr     Östermalm, Stockholms kommun     Lägenhet   \n2271       Södra Nypongatan 5      Svibacka, Sandvikens kommun        Villa   \n\n      closing_price closing_date  price_per_sqm  asking_price  \\\n0           1675000   2022-07-28          12316       1350000   \n1            685000   2022-07-28          11230        650000   \n2           2000000   2022-07-28          43478       1995000   \n3           2380000   2022-07-28          64324       2150000   \n4           5800000   2022-07-28          17313       5550000   \n...             ...          ...            ...           ...   \n2267        1550000   2022-07-20          14762       1350000   \n2268        2300000   2022-07-20          22330       2595000   \n2269        1700000   2022-07-20          22667       1695000   \n2270        8000000   2022-07-20         123077       8450000   \n2271        2210000   2022-07-20          15034       1995000   \n\n      price_development       form_of_assignment  ...                  floor  \\\n0                325000               Äganderätt  ...                Unknown   \n1                 35000               Äganderätt  ...                Unknown   \n2                     0              Bostadsrätt  ...     1 av 4, hiss finns   \n3                230000              Bostadsrätt  ...  3 av 4, hiss finns ej   \n4                250000               Äganderätt  ...                Unknown   \n...                 ...                      ...  ...                    ...   \n2267             200000               Äganderätt  ...                Unknown   \n2268            -295000              Bostadsrätt  ...  1 av 2, hiss finns ej   \n2269                  0              Bostadsrätt  ...          2, hiss finns   \n2270            -450000  Andel i bostadsförening  ...  4 av 4, hiss finns ej   \n2271             215000               Äganderätt  ...                Unknown   \n\n      year_of_construction  monthly_fee operating_costs  land_area_in_sqm  \\\n0                     1975           -1              -1               959   \n1                     1890           -1              -1              2833   \n2                     2019         2382              -1                -1   \n3                     1943         2666              -1                -1   \n4                     1900           -1              -1              1312   \n...                    ...          ...             ...               ...   \n2267                  1980           -1              -1              1017   \n2268                  1986         6616              -1                -1   \n2269                    -1         3524              -1                -1   \n2270                  1893         1825              -1                -1   \n2271                  1969           -1              -1               912   \n\n      land_lease_fee  auxiliary_area_in_sqm  patio  \\\n0                 -1                     48      0   \n1                 -1                     -1      0   \n2                 -1                     -1      1   \n3                 -1                     -1      0   \n4                 -1                     -1      0   \n...              ...                    ...    ...   \n2267              -1                    105      0   \n2268              -1                     -1      1   \n2269              -1                     -1      0   \n2270              -1                     -1      0   \n2271              -1                    100      1   \n\n                                               raw_text  \\\n0     Prisinformation\\nPris per kvadratmeter\\n12 316...   \n1     Prisinformation\\nPris per kvadratmeter\\n11 230...   \n2     Prisinformation\\nPris per kvadratmeter\\n43 478...   \n3     Prisinformation\\nPris per kvadratmeter\\n64 324...   \n4     Prisinformation\\nPris per kvadratmeter\\n17 313...   \n...                                                 ...   \n2267  Prisinformation\\nPris per kvadratmeter\\n14 762...   \n2268  Prisinformation\\nPris per kvadratmeter\\n22 330...   \n2269  Prisinformation\\nPris per kvadratmeter\\n22 667...   \n2270  Prisinformation\\nPris per kvadratmeter\\n123 07...   \n2271  Prisinformation\\nPris per kvadratmeter\\n15 034...   \n\n                                                 agency  \n0                 Kontakta mäklarkontoret\\nHemverket AB  \n1                 Kontakta mäklarkontoret\\nHemverket AB  \n2     Kontakta mäklaren\\nKarin Sökare\\nHusmanHagberg...  \n3     Kontakta mäklaren\\nNatasha Vasic\\nErik Olsson ...  \n4     Kontakta mäklaren\\nPatrik Frimodig\\nMOHV Halmstad  \n...                                                 ...  \n2267  Kontakta mäklaren\\nMatilda Sjölund\\nSkandiaMäk...  \n2268  Kontakta mäklaren\\nYosef Halim\\nBjurfors Lund ...  \n2269  Kontakta mäklaren\\nAmanda Gemmel\\nSvensk Fasti...  \n2270     Kontakta mäklaren\\nOscar Bäverstam\\nSMH Living  \n2271  Kontakta mäklaren\\nPatricia Lüdke\\nSkandiaMäkl...  \n\n[2272 rows x 23 columns]",
      "text/html": "<div>\n<style scoped>\n    .dataframe tbody tr th:only-of-type {\n        vertical-align: middle;\n    }\n\n    .dataframe tbody tr th {\n        vertical-align: top;\n    }\n\n    .dataframe thead th {\n        text-align: right;\n    }\n</style>\n<table border=\"1\" class=\"dataframe\">\n  <thead>\n    <tr style=\"text-align: right;\">\n      <th></th>\n      <th>listing_url</th>\n      <th>address</th>\n      <th>city</th>\n      <th>listing_type</th>\n      <th>closing_price</th>\n      <th>closing_date</th>\n      <th>price_per_sqm</th>\n      <th>asking_price</th>\n      <th>price_development</th>\n      <th>form_of_assignment</th>\n      <th>...</th>\n      <th>floor</th>\n      <th>year_of_construction</th>\n      <th>monthly_fee</th>\n      <th>operating_costs</th>\n      <th>land_area_in_sqm</th>\n      <th>land_lease_fee</th>\n      <th>auxiliary_area_in_sqm</th>\n      <th>patio</th>\n      <th>raw_text</th>\n      <th>agency</th>\n    </tr>\n  </thead>\n  <tbody>\n    <tr>\n      <th>0</th>\n      <td>https://www.hemnet.se/salda/villa-7rum-ulvkall...</td>\n      <td>Sörmovägen 13</td>\n      <td>Ulvkälla, Härjedalens kommun</td>\n      <td>Villa</td>\n      <td>1675000</td>\n      <td>2022-07-28</td>\n      <td>12316</td>\n      <td>1350000</td>\n      <td>325000</td>\n      <td>Äganderätt</td>\n      <td>...</td>\n      <td>Unknown</td>\n      <td>1975</td>\n      <td>-1</td>\n      <td>-1</td>\n      <td>959</td>\n      <td>-1</td>\n      <td>48</td>\n      <td>0</td>\n      <td>Prisinformation\\nPris per kvadratmeter\\n12 316...</td>\n      <td>Kontakta mäklarkontoret\\nHemverket AB</td>\n    </tr>\n    <tr>\n      <th>1</th>\n      <td>https://www.hemnet.se/salda/fritidsboende-4rum...</td>\n      <td>Flo klev Svensgården 12</td>\n      <td>Grästorp, Grästorps kommun</td>\n      <td>Fritidshus</td>\n      <td>685000</td>\n      <td>2022-07-28</td>\n      <td>11230</td>\n      <td>650000</td>\n      <td>35000</td>\n      <td>Äganderätt</td>\n      <td>...</td>\n      <td>Unknown</td>\n      <td>1890</td>\n      <td>-1</td>\n      <td>-1</td>\n      <td>2833</td>\n      <td>-1</td>\n      <td>-1</td>\n      <td>0</td>\n      <td>Prisinformation\\nPris per kvadratmeter\\n11 230...</td>\n      <td>Kontakta mäklarkontoret\\nHemverket AB</td>\n    </tr>\n    <tr>\n      <th>2</th>\n      <td>https://www.hemnet.se/salda/lagenhet-2rum-cent...</td>\n      <td>Drabantgatan 52, bv</td>\n      <td>Centralt, Upplands Väsby kommun</td>\n      <td>Lägenhet</td>\n      <td>2000000</td>\n      <td>2022-07-28</td>\n      <td>43478</td>\n      <td>1995000</td>\n      <td>0</td>\n      <td>Bostadsrätt</td>\n      <td>...</td>\n      <td>1 av 4, hiss finns</td>\n      <td>2019</td>\n      <td>2382</td>\n      <td>-1</td>\n      <td>-1</td>\n      <td>-1</td>\n      <td>-1</td>\n      <td>1</td>\n      <td>Prisinformation\\nPris per kvadratmeter\\n43 478...</td>\n      <td>Kontakta mäklaren\\nKarin Sökare\\nHusmanHagberg...</td>\n    </tr>\n    <tr>\n      <th>3</th>\n      <td>https://www.hemnet.se/salda/lagenhet-1rum-lund...</td>\n      <td>Ulfsparregatan 9E</td>\n      <td>Lunden, Göteborgs kommun</td>\n      <td>Lägenhet</td>\n      <td>2380000</td>\n      <td>2022-07-28</td>\n      <td>64324</td>\n      <td>2150000</td>\n      <td>230000</td>\n      <td>Bostadsrätt</td>\n      <td>...</td>\n      <td>3 av 4, hiss finns ej</td>\n      <td>1943</td>\n      <td>2666</td>\n      <td>-1</td>\n      <td>-1</td>\n      <td>-1</td>\n      <td>-1</td>\n      <td>0</td>\n      <td>Prisinformation\\nPris per kvadratmeter\\n64 324...</td>\n      <td>Kontakta mäklaren\\nNatasha Vasic\\nErik Olsson ...</td>\n    </tr>\n    <tr>\n      <th>4</th>\n      <td>https://www.hemnet.se/salda/villa-7rum-snostor...</td>\n      <td>Björkås Björkbacka 341</td>\n      <td>Snöstorp, Halmstads kommun</td>\n      <td>Villa</td>\n      <td>5800000</td>\n      <td>2022-07-28</td>\n      <td>17313</td>\n      <td>5550000</td>\n      <td>250000</td>\n      <td>Äganderätt</td>\n      <td>...</td>\n      <td>Unknown</td>\n      <td>1900</td>\n      <td>-1</td>\n      <td>-1</td>\n      <td>1312</td>\n      <td>-1</td>\n      <td>-1</td>\n      <td>0</td>\n      <td>Prisinformation\\nPris per kvadratmeter\\n17 313...</td>\n      <td>Kontakta mäklaren\\nPatrik Frimodig\\nMOHV Halmstad</td>\n    </tr>\n    <tr>\n      <th>...</th>\n      <td>...</td>\n      <td>...</td>\n      <td>...</td>\n      <td>...</td>\n      <td>...</td>\n      <td>...</td>\n      <td>...</td>\n      <td>...</td>\n      <td>...</td>\n      <td>...</td>\n      <td>...</td>\n      <td>...</td>\n      <td>...</td>\n      <td>...</td>\n      <td>...</td>\n      <td>...</td>\n      <td>...</td>\n      <td>...</td>\n      <td>...</td>\n      <td>...</td>\n      <td>...</td>\n    </tr>\n    <tr>\n      <th>2267</th>\n      <td>https://www.hemnet.se/salda/villa-5rum-frano-k...</td>\n      <td>Envägen 8</td>\n      <td>Frånö, Kramfors kommun</td>\n      <td>Villa</td>\n      <td>1550000</td>\n      <td>2022-07-20</td>\n      <td>14762</td>\n      <td>1350000</td>\n      <td>200000</td>\n      <td>Äganderätt</td>\n      <td>...</td>\n      <td>Unknown</td>\n      <td>1980</td>\n      <td>-1</td>\n      <td>-1</td>\n      <td>1017</td>\n      <td>-1</td>\n      <td>105</td>\n      <td>0</td>\n      <td>Prisinformation\\nPris per kvadratmeter\\n14 762...</td>\n      <td>Kontakta mäklaren\\nMatilda Sjölund\\nSkandiaMäk...</td>\n    </tr>\n    <tr>\n      <th>2268</th>\n      <td>https://www.hemnet.se/salda/lagenhet-4rum-husi...</td>\n      <td>Västra stationsgatan 12</td>\n      <td>Husie, Malmö kommun</td>\n      <td>Lägenhet</td>\n      <td>2300000</td>\n      <td>2022-07-20</td>\n      <td>22330</td>\n      <td>2595000</td>\n      <td>-295000</td>\n      <td>Bostadsrätt</td>\n      <td>...</td>\n      <td>1 av 2, hiss finns ej</td>\n      <td>1986</td>\n      <td>6616</td>\n      <td>-1</td>\n      <td>-1</td>\n      <td>-1</td>\n      <td>-1</td>\n      <td>1</td>\n      <td>Prisinformation\\nPris per kvadratmeter\\n22 330...</td>\n      <td>Kontakta mäklaren\\nYosef Halim\\nBjurfors Lund ...</td>\n    </tr>\n    <tr>\n      <th>2269</th>\n      <td>https://www.hemnet.se/salda/lagenhet-2rum-kors...</td>\n      <td>Tegnérgatan 3</td>\n      <td>Korsängsgärdet, Västerås kommun</td>\n      <td>Lägenhet</td>\n      <td>1700000</td>\n      <td>2022-07-20</td>\n      <td>22667</td>\n      <td>1695000</td>\n      <td>0</td>\n      <td>Bostadsrätt</td>\n      <td>...</td>\n      <td>2, hiss finns</td>\n      <td>-1</td>\n      <td>3524</td>\n      <td>-1</td>\n      <td>-1</td>\n      <td>-1</td>\n      <td>-1</td>\n      <td>0</td>\n      <td>Prisinformation\\nPris per kvadratmeter\\n22 667...</td>\n      <td>Kontakta mäklaren\\nAmanda Gemmel\\nSvensk Fasti...</td>\n    </tr>\n    <tr>\n      <th>2270</th>\n      <td>https://www.hemnet.se/salda/lagenhet-2rum-oste...</td>\n      <td>Riddargatan 49A, 4tr</td>\n      <td>Östermalm, Stockholms kommun</td>\n      <td>Lägenhet</td>\n      <td>8000000</td>\n      <td>2022-07-20</td>\n      <td>123077</td>\n      <td>8450000</td>\n      <td>-450000</td>\n      <td>Andel i bostadsförening</td>\n      <td>...</td>\n      <td>4 av 4, hiss finns ej</td>\n      <td>1893</td>\n      <td>1825</td>\n      <td>-1</td>\n      <td>-1</td>\n      <td>-1</td>\n      <td>-1</td>\n      <td>0</td>\n      <td>Prisinformation\\nPris per kvadratmeter\\n123 07...</td>\n      <td>Kontakta mäklaren\\nOscar Bäverstam\\nSMH Living</td>\n    </tr>\n    <tr>\n      <th>2271</th>\n      <td>https://www.hemnet.se/salda/villa-5rum-sviback...</td>\n      <td>Södra Nypongatan 5</td>\n      <td>Svibacka, Sandvikens kommun</td>\n      <td>Villa</td>\n      <td>2210000</td>\n      <td>2022-07-20</td>\n      <td>15034</td>\n      <td>1995000</td>\n      <td>215000</td>\n      <td>Äganderätt</td>\n      <td>...</td>\n      <td>Unknown</td>\n      <td>1969</td>\n      <td>-1</td>\n      <td>-1</td>\n      <td>912</td>\n      <td>-1</td>\n      <td>100</td>\n      <td>1</td>\n      <td>Prisinformation\\nPris per kvadratmeter\\n15 034...</td>\n      <td>Kontakta mäklaren\\nPatricia Lüdke\\nSkandiaMäkl...</td>\n    </tr>\n  </tbody>\n</table>\n<p>2272 rows × 23 columns</p>\n</div>"
     },
     "execution_count": 3,
     "metadata": {},
     "output_type": "execute_result"
    }
   ],
   "source": [
    "con = sqlite3.connect('data/hemnet.db')\n",
    "closed_listings = pd.read_sql_query(\"select * from closed_listings\", con)\n",
    "closed_listings"
   ],
   "metadata": {
    "collapsed": false,
    "pycharm": {
     "name": "#%%\n"
    }
   }
  },
  {
   "cell_type": "code",
   "execution_count": null,
   "outputs": [],
   "source": [],
   "metadata": {
    "collapsed": false,
    "pycharm": {
     "name": "#%%\n"
    }
   }
  }
 ],
 "metadata": {
  "kernelspec": {
   "display_name": "Python 3",
   "language": "python",
   "name": "python3"
  },
  "language_info": {
   "codemirror_mode": {
    "name": "ipython",
    "version": 2
   },
   "file_extension": ".py",
   "mimetype": "text/x-python",
   "name": "python",
   "nbconvert_exporter": "python",
   "pygments_lexer": "ipython2",
   "version": "2.7.6"
  }
 },
 "nbformat": 4,
 "nbformat_minor": 0
}