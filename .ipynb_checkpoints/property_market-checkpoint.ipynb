{
 "cells": [
  {
   "cell_type": "markdown",
   "metadata": {
    "pycharm": {
     "name": "#%% md\n"
    }
   },
   "source": [
    "# Swedish Property Market Analysis Notebook\n",
    "\n",
    "This notebook contains an extensive analysis of the Swedish property market that allows for better purchase and sales decisions."
   ]
  },
  {
   "cell_type": "code",
   "execution_count": 1,
   "metadata": {
    "pycharm": {
     "name": "#%%\n"
    }
   },
   "outputs": [],
   "source": [
    "import matplotlib.pyplot as plt\n",
    "import pandas as pd\n",
    "import sqlite3\n",
    "import ipywidgets as widgets\n",
    "import numpy as np\n",
    "%matplotlib widget\n",
    "#%matplotlib inline\n",
    "#%matplotlib notebook"
   ]
  },
  {
   "cell_type": "code",
   "execution_count": 2,
   "metadata": {
    "pycharm": {
     "name": "#%%\n"
    }
   },
   "outputs": [
    {
     "data": {
      "text/plain": [
       "(2544, 23)"
      ]
     },
     "execution_count": 2,
     "metadata": {},
     "output_type": "execute_result"
    }
   ],
   "source": [
    "con = sqlite3.connect('data/propertymarket.db')\n",
    "closed_listings = pd.read_sql_query(\"select * from closed_listings\", con)\n",
    "closed_listings.shape"
   ]
  },
  {
   "cell_type": "markdown",
   "metadata": {
    "pycharm": {
     "name": "#%% md\n"
    }
   },
   "source": [
    "## Distribution of prices"
   ]
  },
  {
   "cell_type": "code",
   "execution_count": 7,
   "metadata": {
    "pycharm": {
     "name": "#%%\n"
    }
   },
   "outputs": [
    {
     "data": {
      "application/vnd.jupyter.widget-view+json": {
       "model_id": "4ab3c706182445bb8334fa8bced4a997",
       "version_major": 2,
       "version_minor": 0
      },
      "text/plain": [
       "interactive(children=(SelectMultiple(description='Property Type', index=(12,), options=('Gård utan jordbruk', …"
      ]
     },
     "metadata": {},
     "output_type": "display_data"
    },
    {
     "data": {
      "text/plain": [
       "<function __main__.plot_price_hist(listing_types)>"
      ]
     },
     "execution_count": 7,
     "metadata": {},
     "output_type": "execute_result"
    }
   ],
   "source": [
    "property_types = list(set(closed_listings['listing_type']))\n",
    "selection = widgets.SelectMultiple(\n",
    "    options=property_types,\n",
    "    value=['Villa'],\n",
    "    #rows=10,\n",
    "    description='Property Type',\n",
    "    disabled=False\n",
    ")\n",
    "\n",
    "def plot_price_hist(listing_types):\n",
    "    listings = closed_listings[closed_listings['listing_type'].isin(listing_types)]\n",
    "    print(listing_types, listings.shape)\n",
    "    max_price = 1e7\n",
    "    bins = np.linspace(0,max_price,100)\n",
    "    \n",
    "    plt.figure(figsize=(20,10))\n",
    "    plt.hist(listings['asking_price'], bins, alpha=0.5, label='asking')\n",
    "    plt.hist(listings['closing_price'], bins, alpha=0.5, label='closing')\n",
    "    plt.xlabel(\"Price in SEK\", fontsize=40)\n",
    "    plt.ylabel(\"Number of listings\", fontsize=25)\n",
    "    plt.legend(loc='upper right', prop={'size': 20})\n",
    "    plt.show()\n",
    "    \n",
    "\n",
    "def print_name(listing_type):\n",
    "    print(listing_type)\n",
    "\n",
    "widgets.interact(plot_price_hist, listing_types=selection)"
   ]
  }
 ],
 "metadata": {
  "kernelspec": {
   "display_name": "Python 3 (ipykernel)",
   "language": "python",
   "name": "python3"
  },
  "language_info": {
   "codemirror_mode": {
    "name": "ipython",
    "version": 3
   },
   "file_extension": ".py",
   "mimetype": "text/x-python",
   "name": "python",
   "nbconvert_exporter": "python",
   "pygments_lexer": "ipython3",
   "version": "3.10.5"
  }
 },
 "nbformat": 4,
 "nbformat_minor": 1
}
